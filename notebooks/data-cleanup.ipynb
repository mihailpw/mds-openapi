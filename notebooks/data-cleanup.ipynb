{
 "cells": [
  {
   "cell_type": "code",
   "execution_count": null,
   "metadata": {},
   "outputs": [],
   "source": [
    "import random\n",
    "\n",
    "def stoplight_id():\n",
    "    return \"\".join(random.choices(\"abcdefghijklmnopqrstuvwxyz0123456789\", k=13))"
   ]
  },
  {
   "cell_type": "code",
   "execution_count": null,
   "metadata": {},
   "outputs": [],
   "source": [
    "stoplight_id()"
   ]
  },
  {
   "cell_type": "code",
   "execution_count": null,
   "metadata": {},
   "outputs": [],
   "source": [
    "import pathlib\n",
    "import yaml\n",
    "\n",
    "models = pathlib.Path(\"../models\")\n",
    "data_types = models / pathlib.Path(\"data-types\")\n",
    "modes = models / pathlib.Path(\"modes\")\n",
    "response = models / pathlib.Path(\"response\")\n",
    "reference = pathlib.Path(\"../reference\")\n",
    "\n",
    "def get_files(dir: pathlib.Path):\n",
    "    return [i for i in dir.iterdir() if i.is_file()]\n",
    "\n",
    "def dedupe_ids():\n",
    "    ids = {}\n",
    "\n",
    "    all_files = get_files(models)\n",
    "    all_files.extend(get_files(data_types))\n",
    "    all_files.extend(get_files(response))\n",
    "    all_files.extend(get_files(reference))\n",
    "\n",
    "    for dir in modes.iterdir():\n",
    "        all_files.extend(get_files(dir))\n",
    "\n",
    "    for file in all_files:\n",
    "        with open(file) as f:\n",
    "            data = yaml.safe_load(f)\n",
    "\n",
    "        id = data[\"x-stoplight\"][\"id\"]\n",
    "\n",
    "        if id in ids:\n",
    "            print(f\"Found duplicate id '{id}' in '{file}', deduping...\")\n",
    "            new_id = stoplight_id()\n",
    "            data[\"x-stoplight\"][\"id\"] = new_id\n",
    "            with open(file, \"w\") as f:\n",
    "                yaml.safe_dump(data, f)\n",
    "            ids[new_id] = file\n",
    "        else:\n",
    "            ids[id] = file"
   ]
  },
  {
   "cell_type": "code",
   "execution_count": null,
   "metadata": {},
   "outputs": [],
   "source": [
    "dedupe_ids()"
   ]
  }
 ],
 "metadata": {
  "kernelspec": {
   "display_name": ".venv",
   "language": "python",
   "name": "python3"
  },
  "language_info": {
   "codemirror_mode": {
    "name": "ipython",
    "version": 3
   },
   "file_extension": ".py",
   "mimetype": "text/x-python",
   "name": "python",
   "nbconvert_exporter": "python",
   "pygments_lexer": "ipython3",
   "version": "3.9.6"
  },
  "orig_nbformat": 4
 },
 "nbformat": 4,
 "nbformat_minor": 2
}
